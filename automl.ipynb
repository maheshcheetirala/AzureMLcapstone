{
 "cells": [
  {
   "cell_type": "markdown",
   "metadata": {},
   "source": [
    "## Importing the required Libraries"
   ]
  },
  {
   "cell_type": "code",
   "execution_count": 1,
   "metadata": {},
   "outputs": [],
   "source": [
    "import logging\n",
    "\n",
    "from sklearn.metrics import mean_absolute_error, mean_squared_error, r2_score\n",
    "from matplotlib import pyplot as plt\n",
    "import pandas as pd\n",
    "import numpy as np\n",
    "import warnings\n",
    "import os\n",
    "\n",
    "# Squash warning messages for cleaner output in the notebook\n",
    "warnings.showwarning = lambda *args, **kwargs: None\n",
    "\n",
    "import azureml.core\n",
    "from azureml.core import Experiment, Workspace, Dataset\n",
    "from azureml.train.automl import AutoMLConfig\n",
    "from datetime import datetime\n",
    "from azureml.core.compute_target import ComputeTargetException\n",
    "from azureml.widgets import RunDetails\n",
    "from azureml.train.automl import AutoMLConfig\n",
    "\n",
    "from azureml.core.model import InferenceConfig\n",
    "from azureml.core.webservice import AciWebservice, Webservice\n",
    "from azureml.core.model import Model\n",
    "from azureml.core.environment import Environment"
   ]
  },
  {
   "cell_type": "code",
   "execution_count": 2,
   "metadata": {},
   "outputs": [
    {
     "name": "stdout",
     "output_type": "stream",
     "text": [
      "quick-starts-ws-133645\n",
      "aml-quickstarts-133645\n",
      "southcentralus\n",
      "cdbe0b43-92a0-4715-838a-f2648cc7ad21\n"
     ]
    }
   ],
   "source": [
    "\n",
    "ws = Workspace.from_config()\n",
    "print(ws.name, ws.resource_group, ws.location, ws.subscription_id, sep = '\\n')"
   ]
  },
  {
   "cell_type": "markdown",
   "metadata": {},
   "source": [
    "## Configuring the Compute Cluster"
   ]
  },
  {
   "cell_type": "code",
   "execution_count": 3,
   "metadata": {
    "scrolled": true
   },
   "outputs": [
    {
     "name": "stdout",
     "output_type": "stream",
     "text": [
      "Found existing cluster, use it.\n",
      "Succeeded\n",
      "AmlCompute wait for completion finished\n",
      "\n",
      "Minimum number of nodes requested have been provisioned\n",
      "notebook133645 ComputeInstance Succeeded\n",
      "TargetCluster AmlCompute Succeeded\n"
     ]
    }
   ],
   "source": [
    "from azureml.core.compute import ComputeTarget, AmlCompute\n",
    "from azureml.core.compute_target import ComputeTargetException\n",
    "\n",
    "ws = Workspace.from_config() # this automatically looks for a directory .azureml\n",
    "\n",
    "# Choose a name for your CPU cluster\n",
    "cpu_cluster_name = \"TargetCluster\"\n",
    "\n",
    "# Verify that cluster does not exist already\n",
    "try:\n",
    "    cpu_cluster = ComputeTarget(workspace=ws, name=cpu_cluster_name)\n",
    "    print('Found existing cluster, use it.')\n",
    "except ComputeTargetException:\n",
    "    compute_config = AmlCompute.provisioning_configuration(vm_size='STANDARD_D2_V2',\n",
    "                                                            max_nodes=4, \n",
    "                                                            idle_seconds_before_scaledown=2400,\n",
    "                                                            vm_priority='lowpriority')\n",
    "    cpu_cluster = ComputeTarget.create(ws, cpu_cluster_name, compute_config)\n",
    "\n",
    "cpu_cluster.wait_for_completion(show_output=True)\n",
    "compute_targets = ws.compute_targets\n",
    "for name, ct in compute_targets.items():\n",
    "    print(name, ct.type, ct.provisioning_state)"
   ]
  },
  {
   "cell_type": "markdown",
   "metadata": {},
   "source": [
    "## Setting the experiment in the Work space"
   ]
  },
  {
   "cell_type": "code",
   "execution_count": 4,
   "metadata": {},
   "outputs": [],
   "source": [
    "\n",
    "experiment_name = 'automl-Diabetes'\n",
    "\n",
    "experiment=Experiment(ws, experiment_name)"
   ]
  },
  {
   "cell_type": "code",
   "execution_count": 5,
   "metadata": {},
   "outputs": [
    {
     "data": {
      "text/html": [
       "<table style=\"width:100%\"><tr><th>Name</th><th>Workspace</th><th>Report Page</th><th>Docs Page</th></tr><tr><td>automl-Diabetes</td><td>quick-starts-ws-133508</td><td><a href=\"https://ml.azure.com/experiments/automl-Diabetes?wsid=/subscriptions/aa7cf8e8-d23f-4bce-a7b9-1f0b4e0ac8ee/resourcegroups/aml-quickstarts-133508/workspaces/quick-starts-ws-133508\" target=\"_blank\" rel=\"noopener\">Link to Azure Machine Learning studio</a></td><td><a href=\"https://docs.microsoft.com/en-us/python/api/azureml-core/azureml.core.experiment.Experiment?view=azure-ml-py\" target=\"_blank\" rel=\"noopener\">Link to Documentation</a></td></tr></table>"
      ],
      "text/plain": [
       "Experiment(Name: automl-Diabetes,\n",
       "Workspace: quick-starts-ws-133508)"
      ]
     },
     "execution_count": 5,
     "metadata": {},
     "output_type": "execute_result"
    }
   ],
   "source": [
    "experiment"
   ]
  },
  {
   "cell_type": "markdown",
   "metadata": {},
   "source": [
    "## Ladong the Dataset fetched from Kaggle into Github"
   ]
  },
  {
   "cell_type": "code",
   "execution_count": 5,
   "metadata": {},
   "outputs": [],
   "source": [
    "path='https://raw.githubusercontent.com/maheshcheetirala/Azure-Machine-Learning-ND-capstone/Main/diabetes.csv'\n",
    "dataset = Dataset.Tabular.from_delimited_files(path)\n",
    "dataset = dataset.register(workspace=ws,name='DiabetesDataset')\n",
    "df = dataset.to_pandas_dataframe()"
   ]
  },
  {
   "cell_type": "code",
   "execution_count": 6,
   "metadata": {},
   "outputs": [
    {
     "data": {
      "text/html": [
       "<div>\n",
       "<style scoped>\n",
       "    .dataframe tbody tr th:only-of-type {\n",
       "        vertical-align: middle;\n",
       "    }\n",
       "\n",
       "    .dataframe tbody tr th {\n",
       "        vertical-align: top;\n",
       "    }\n",
       "\n",
       "    .dataframe thead th {\n",
       "        text-align: right;\n",
       "    }\n",
       "</style>\n",
       "<table border=\"1\" class=\"dataframe\">\n",
       "  <thead>\n",
       "    <tr style=\"text-align: right;\">\n",
       "      <th></th>\n",
       "      <th>Pregnancies</th>\n",
       "      <th>Glucose</th>\n",
       "      <th>BloodPressure</th>\n",
       "      <th>SkinThickness</th>\n",
       "      <th>Insulin</th>\n",
       "      <th>BMI</th>\n",
       "      <th>DiabetesPedigreeFunction</th>\n",
       "      <th>Age</th>\n",
       "      <th>Outcome</th>\n",
       "    </tr>\n",
       "  </thead>\n",
       "  <tbody>\n",
       "    <tr>\n",
       "      <th>0</th>\n",
       "      <td>6</td>\n",
       "      <td>148</td>\n",
       "      <td>72</td>\n",
       "      <td>35</td>\n",
       "      <td>0</td>\n",
       "      <td>33.6</td>\n",
       "      <td>0.627</td>\n",
       "      <td>50</td>\n",
       "      <td>1</td>\n",
       "    </tr>\n",
       "    <tr>\n",
       "      <th>1</th>\n",
       "      <td>1</td>\n",
       "      <td>85</td>\n",
       "      <td>66</td>\n",
       "      <td>29</td>\n",
       "      <td>0</td>\n",
       "      <td>26.6</td>\n",
       "      <td>0.351</td>\n",
       "      <td>31</td>\n",
       "      <td>0</td>\n",
       "    </tr>\n",
       "    <tr>\n",
       "      <th>2</th>\n",
       "      <td>8</td>\n",
       "      <td>183</td>\n",
       "      <td>64</td>\n",
       "      <td>0</td>\n",
       "      <td>0</td>\n",
       "      <td>23.3</td>\n",
       "      <td>0.672</td>\n",
       "      <td>32</td>\n",
       "      <td>1</td>\n",
       "    </tr>\n",
       "    <tr>\n",
       "      <th>3</th>\n",
       "      <td>1</td>\n",
       "      <td>89</td>\n",
       "      <td>66</td>\n",
       "      <td>23</td>\n",
       "      <td>94</td>\n",
       "      <td>28.1</td>\n",
       "      <td>0.167</td>\n",
       "      <td>21</td>\n",
       "      <td>0</td>\n",
       "    </tr>\n",
       "    <tr>\n",
       "      <th>4</th>\n",
       "      <td>0</td>\n",
       "      <td>137</td>\n",
       "      <td>40</td>\n",
       "      <td>35</td>\n",
       "      <td>168</td>\n",
       "      <td>43.1</td>\n",
       "      <td>2.288</td>\n",
       "      <td>33</td>\n",
       "      <td>1</td>\n",
       "    </tr>\n",
       "  </tbody>\n",
       "</table>\n",
       "</div>"
      ],
      "text/plain": [
       "   Pregnancies  Glucose  BloodPressure  SkinThickness  Insulin   BMI  \\\n",
       "0            6      148             72             35        0  33.6   \n",
       "1            1       85             66             29        0  26.6   \n",
       "2            8      183             64              0        0  23.3   \n",
       "3            1       89             66             23       94  28.1   \n",
       "4            0      137             40             35      168  43.1   \n",
       "\n",
       "   DiabetesPedigreeFunction  Age  Outcome  \n",
       "0                     0.627   50        1  \n",
       "1                     0.351   31        0  \n",
       "2                     0.672   32        1  \n",
       "3                     0.167   21        0  \n",
       "4                     2.288   33        1  "
      ]
     },
     "execution_count": 6,
     "metadata": {},
     "output_type": "execute_result"
    }
   ],
   "source": [
    "df.head()"
   ]
  },
  {
   "cell_type": "markdown",
   "metadata": {},
   "source": [
    "## AutomL configuration"
   ]
  },
  {
   "cell_type": "code",
   "execution_count": 7,
   "metadata": {
    "scrolled": true
   },
   "outputs": [],
   "source": [
    "from azureml.train.automl import AutoMLConfig\n",
    "\n",
    "\n",
    "automl_config = AutoMLConfig(\n",
    "    experiment_timeout_minutes=30,\n",
    "    debug_log = 'automl_errors.log',\n",
    "    task='classification',\n",
    "    primary_metric='accuracy',\n",
    "    training_data=dataset,\n",
    "    label_column_name='Outcome',\n",
    "    n_cross_validations=5,\n",
    "    compute_target=\"TargetCluster\",\n",
    "    iterations=24,\n",
    "    max_concurrent_iterations=8)"
   ]
  },
  {
   "cell_type": "markdown",
   "metadata": {},
   "source": [
    "## Submiiting the Experiment Run"
   ]
  },
  {
   "cell_type": "code",
   "execution_count": 8,
   "metadata": {
    "scrolled": true
   },
   "outputs": [
    {
     "name": "stdout",
     "output_type": "stream",
     "text": [
      "Running on remote.\n",
      "No run_configuration provided, running on TargetCluster with default configuration\n",
      "Running on remote compute: TargetCluster\n",
      "Parent Run ID: AutoML_e8661898-9d01-4bb5-8e1e-dfd5953a4cbc\n",
      "\n",
      "Current status: FeaturesGeneration. Generating features for the dataset.\n",
      "Current status: ModelSelection. Beginning model selection.\n",
      "\n",
      "****************************************************************************************************\n",
      "DATA GUARDRAILS: \n",
      "\n",
      "TYPE:         Class balancing detection\n",
      "STATUS:       PASSED\n",
      "DESCRIPTION:  Your inputs were analyzed, and all classes are balanced in your training data.\n",
      "              Learn more about imbalanced data: https://aka.ms/AutomatedMLImbalancedData\n",
      "\n",
      "****************************************************************************************************\n",
      "\n",
      "TYPE:         Missing feature values imputation\n",
      "STATUS:       PASSED\n",
      "DESCRIPTION:  No feature missing values were detected in the training data.\n",
      "              Learn more about missing value imputation: https://aka.ms/AutomatedMLFeaturization\n",
      "\n",
      "****************************************************************************************************\n",
      "\n",
      "TYPE:         High cardinality feature detection\n",
      "STATUS:       PASSED\n",
      "DESCRIPTION:  Your inputs were analyzed, and no high cardinality features were detected.\n",
      "              Learn more about high cardinality feature handling: https://aka.ms/AutomatedMLFeaturization\n",
      "\n",
      "****************************************************************************************************\n",
      "\n",
      "****************************************************************************************************\n",
      "ITERATION: The iteration being evaluated.\n",
      "PIPELINE: A summary description of the pipeline being evaluated.\n",
      "DURATION: Time taken for the current iteration.\n",
      "METRIC: The result of computing score on the fitted pipeline.\n",
      "BEST: The best observed score thus far.\n",
      "****************************************************************************************************\n",
      "\n",
      " ITERATION   PIPELINE                                       DURATION      METRIC      BEST\n",
      "         0   MaxAbsScaler LightGBM                          0:00:42       0.7513    0.7513\n",
      "         4   MinMaxScaler RandomForest                      0:00:44       0.7644    0.7644\n",
      "         7   StandardScalerWrapper LogisticRegression       0:00:43       0.7578    0.7644\n",
      "         1   MaxAbsScaler XGBoostClassifier                 0:03:01       0.7748    0.7748\n",
      "         2   MinMaxScaler RandomForest                      0:03:01       0.7670    0.7748\n",
      "         5   StandardScalerWrapper LightGBM                 0:03:08       0.7657    0.7748\n",
      "         6   StandardScalerWrapper LightGBM                 0:00:47       0.7592    0.7748\n",
      "         8   RobustScaler KNN                               0:00:44       0.7527    0.7748\n",
      "        10   MaxAbsScaler LightGBM                          0:00:47       0.7605    0.7748\n",
      "         3   MinMaxScaler RandomForest                      0:00:49       0.7566    0.7748\n",
      "         9   SparseNormalizer XGBoostClassifier             0:00:45       0.6837    0.7748\n",
      "        12   SparseNormalizer XGBoostClassifier             0:00:39       0.6797    0.7748\n",
      "        11   SparseNormalizer XGBoostClassifier             0:00:43       0.6824    0.7748\n",
      "        14   MaxAbsScaler GradientBoosting                  0:00:41       0.7657    0.7748\n",
      "        13   SparseNormalizer GradientBoosting              0:00:44       0.6745    0.7748\n",
      "        15   StandardScalerWrapper XGBoostClassifier        0:00:43       0.7670    0.7748\n",
      "        16   MaxAbsScaler ExtremeRandomTrees                0:00:42       0.7618    0.7748\n",
      "        18   SparseNormalizer XGBoostClassifier             0:00:39       0.6759    0.7748\n",
      "        17   SparseNormalizer XGBoostClassifier             0:00:42       0.6824    0.7748\n",
      "        19   RobustScaler KNN                               0:00:49       0.7383    0.7748\n",
      "        20   SparseNormalizer XGBoostClassifier             0:00:44       0.6824    0.7748\n",
      "        21   MaxAbsScaler LightGBM                          0:00:42       0.7449    0.7748\n",
      "        23    StackEnsemble                                 0:01:00       0.7735    0.7748\n",
      "        22    VotingEnsemble                                0:01:03       0.7865    0.7865\n"
     ]
    }
   ],
   "source": [
    "\n",
    "remote_run = experiment.submit(automl_config,show_output=True)"
   ]
  },
  {
   "cell_type": "code",
   "execution_count": null,
   "metadata": {},
   "outputs": [],
   "source": [
    "from azureml.widgets import RunDetails\n",
    "RunDetails(remote_run).show()"
   ]
  },
  {
   "cell_type": "code",
   "execution_count": 12,
   "metadata": {},
   "outputs": [
    {
     "name": "stdout",
     "output_type": "stream",
     "text": [
      "\n",
      "\n",
      "****************************************************************************************************\n",
      "DATA GUARDRAILS: \n",
      "\n",
      "TYPE:         Class balancing detection\n",
      "STATUS:       PASSED\n",
      "DESCRIPTION:  Your inputs were analyzed, and all classes are balanced in your training data.\n",
      "              Learn more about imbalanced data: https://aka.ms/AutomatedMLImbalancedData\n",
      "\n",
      "****************************************************************************************************\n",
      "\n",
      "TYPE:         Missing feature values imputation\n",
      "STATUS:       PASSED\n",
      "DESCRIPTION:  No feature missing values were detected in the training data.\n",
      "              Learn more about missing value imputation: https://aka.ms/AutomatedMLFeaturization\n",
      "\n",
      "****************************************************************************************************\n",
      "\n",
      "TYPE:         High cardinality feature detection\n",
      "STATUS:       PASSED\n",
      "DESCRIPTION:  Your inputs were analyzed, and no high cardinality features were detected.\n",
      "              Learn more about high cardinality feature handling: https://aka.ms/AutomatedMLFeaturization\n",
      "\n",
      "****************************************************************************************************\n",
      "\n",
      "****************************************************************************************************\n",
      "ITERATION: The iteration being evaluated.\n",
      "PIPELINE: A summary description of the pipeline being evaluated.\n",
      "DURATION: Time taken for the current iteration.\n",
      "METRIC: The result of computing score on the fitted pipeline.\n",
      "BEST: The best observed score thus far.\n",
      "****************************************************************************************************\n",
      "\n",
      " ITERATION   PIPELINE                                       DURATION      METRIC      BEST\n",
      "         0   MaxAbsScaler LightGBM                          0:00:42       0.7513    0.7513\n",
      "         1   MaxAbsScaler XGBoostClassifier                 0:03:01       0.7748    0.7748\n",
      "         2   MinMaxScaler RandomForest                      0:03:01       0.7670    0.7748\n",
      "         3   MinMaxScaler RandomForest                      0:00:49       0.7566    0.7748\n",
      "         4   MinMaxScaler RandomForest                      0:00:44       0.7644    0.7748\n",
      "         5   StandardScalerWrapper LightGBM                 0:03:08       0.7657    0.7748\n",
      "         6   StandardScalerWrapper LightGBM                 0:00:47       0.7592    0.7748\n",
      "         7   StandardScalerWrapper LogisticRegression       0:00:43       0.7578    0.7748\n",
      "        10   MaxAbsScaler LightGBM                          0:00:47       0.7605    0.7748\n",
      "        11   SparseNormalizer XGBoostClassifier             0:00:43       0.6824    0.7748\n",
      "        12   SparseNormalizer XGBoostClassifier             0:00:39       0.6797    0.7748\n",
      "        13   SparseNormalizer GradientBoosting              0:00:44       0.6745    0.7748\n",
      "        14   MaxAbsScaler GradientBoosting                  0:00:41       0.7657    0.7748\n",
      "        15   StandardScalerWrapper XGBoostClassifier        0:00:43       0.7670    0.7748\n",
      "         8   RobustScaler KNN                               0:00:44       0.7527    0.7748\n",
      "         9   SparseNormalizer XGBoostClassifier             0:00:45       0.6837    0.7748\n",
      "        16   MaxAbsScaler ExtremeRandomTrees                0:00:42       0.7618    0.7748\n",
      "        17   SparseNormalizer XGBoostClassifier             0:00:42       0.6824    0.7748\n",
      "        18   SparseNormalizer XGBoostClassifier             0:00:39       0.6759    0.7748\n",
      "        19   RobustScaler KNN                               0:00:49       0.7383    0.7748\n",
      "        20   SparseNormalizer XGBoostClassifier             0:00:44       0.6824    0.7748\n",
      "        21   MaxAbsScaler LightGBM                          0:00:42       0.7449    0.7748\n",
      "        22    VotingEnsemble                                0:01:03       0.7865    0.7865\n",
      "        23    StackEnsemble                                 0:01:00       0.7735    0.7865\n"
     ]
    },
    {
     "data": {
      "text/plain": [
       "{'runId': 'AutoML_e8661898-9d01-4bb5-8e1e-dfd5953a4cbc',\n",
       " 'target': 'TargetCluster',\n",
       " 'status': 'Completed',\n",
       " 'startTimeUtc': '2021-01-06T12:54:44.279259Z',\n",
       " 'endTimeUtc': '2021-01-06T13:07:08.807814Z',\n",
       " 'properties': {'num_iterations': '24',\n",
       "  'training_type': 'TrainFull',\n",
       "  'acquisition_function': 'EI',\n",
       "  'primary_metric': 'accuracy',\n",
       "  'train_split': '0',\n",
       "  'acquisition_parameter': '0',\n",
       "  'num_cross_validation': '5',\n",
       "  'target': 'TargetCluster',\n",
       "  'AMLSettingsJsonString': '{\"path\":null,\"name\":\"automl-Diabetes\",\"subscription_id\":\"cdbe0b43-92a0-4715-838a-f2648cc7ad21\",\"resource_group\":\"aml-quickstarts-133645\",\"workspace_name\":\"quick-starts-ws-133645\",\"region\":\"southcentralus\",\"compute_target\":\"TargetCluster\",\"spark_service\":null,\"azure_service\":\"remote\",\"many_models\":false,\"pipeline_fetch_max_batch_size\":1,\"iterations\":24,\"primary_metric\":\"accuracy\",\"task_type\":\"classification\",\"data_script\":null,\"validation_size\":0.0,\"n_cross_validations\":5,\"y_min\":null,\"y_max\":null,\"num_classes\":null,\"featurization\":\"auto\",\"_ignore_package_version_incompatibilities\":false,\"is_timeseries\":false,\"max_cores_per_iteration\":1,\"max_concurrent_iterations\":8,\"iteration_timeout_minutes\":null,\"mem_in_mb\":null,\"enforce_time_on_windows\":false,\"experiment_timeout_minutes\":30,\"experiment_exit_score\":null,\"whitelist_models\":null,\"blacklist_algos\":[\"TensorFlowLinearClassifier\",\"TensorFlowDNN\"],\"supported_models\":[\"AveragedPerceptronClassifier\",\"SVM\",\"ExtremeRandomTrees\",\"TensorFlowDNN\",\"RandomForest\",\"TensorFlowLinearClassifier\",\"XGBoostClassifier\",\"LightGBM\",\"SGD\",\"BernoulliNaiveBayes\",\"MultinomialNaiveBayes\",\"KNN\",\"LinearSVM\",\"GradientBoosting\",\"DecisionTree\",\"LogisticRegression\"],\"auto_blacklist\":true,\"blacklist_samples_reached\":false,\"exclude_nan_labels\":true,\"verbosity\":20,\"_debug_log\":\"azureml_automl.log\",\"show_warnings\":false,\"model_explainability\":true,\"service_url\":null,\"sdk_url\":null,\"sdk_packages\":null,\"enable_onnx_compatible_models\":false,\"enable_split_onnx_featurizer_estimator_models\":false,\"vm_type\":\"STANDARD_D2_V2\",\"telemetry_verbosity\":20,\"send_telemetry\":true,\"enable_dnn\":false,\"scenario\":\"SDK-1.13.0\",\"environment_label\":null,\"force_text_dnn\":false,\"enable_feature_sweeping\":true,\"enable_early_stopping\":false,\"early_stopping_n_iters\":10,\"metrics\":null,\"enable_ensembling\":true,\"enable_stack_ensembling\":true,\"ensemble_iterations\":15,\"enable_tf\":false,\"enable_subsampling\":false,\"subsample_seed\":null,\"enable_nimbusml\":false,\"enable_streaming\":false,\"force_streaming\":false,\"track_child_runs\":true,\"allowed_private_models\":[],\"label_column_name\":\"Outcome\",\"weight_column_name\":null,\"cv_split_column_names\":null,\"enable_local_managed\":false,\"_local_managed_run_id\":null,\"cost_mode\":1,\"lag_length\":0,\"metric_operation\":\"maximize\",\"preprocess\":true}',\n",
       "  'DataPrepJsonString': '{\\\\\"training_data\\\\\": \\\\\"{\\\\\\\\\\\\\"blocks\\\\\\\\\\\\\": [{\\\\\\\\\\\\\"id\\\\\\\\\\\\\": \\\\\\\\\\\\\"a534c071-eca6-4220-992d-d71a6150bfe1\\\\\\\\\\\\\", \\\\\\\\\\\\\"type\\\\\\\\\\\\\": \\\\\\\\\\\\\"Microsoft.DPrep.GetFilesBlock\\\\\\\\\\\\\", \\\\\\\\\\\\\"arguments\\\\\\\\\\\\\": {\\\\\\\\\\\\\"isArchive\\\\\\\\\\\\\": false, \\\\\\\\\\\\\"path\\\\\\\\\\\\\": {\\\\\\\\\\\\\"target\\\\\\\\\\\\\": 4, \\\\\\\\\\\\\"resourceDetails\\\\\\\\\\\\\": [{\\\\\\\\\\\\\"path\\\\\\\\\\\\\": \\\\\\\\\\\\\"https://raw.githubusercontent.com/maheshcheetirala/Azure-Machine-Learning-ND-capstone/Main/diabetes.csv\\\\\\\\\\\\\"}]}}, \\\\\\\\\\\\\"localData\\\\\\\\\\\\\": {}, \\\\\\\\\\\\\"isEnabled\\\\\\\\\\\\\": true, \\\\\\\\\\\\\"name\\\\\\\\\\\\\": null, \\\\\\\\\\\\\"annotation\\\\\\\\\\\\\": null}, {\\\\\\\\\\\\\"id\\\\\\\\\\\\\": \\\\\\\\\\\\\"bb127482-6356-4645-b300-7ce3136105ec\\\\\\\\\\\\\", \\\\\\\\\\\\\"type\\\\\\\\\\\\\": \\\\\\\\\\\\\"Microsoft.DPrep.ParseDelimitedBlock\\\\\\\\\\\\\", \\\\\\\\\\\\\"arguments\\\\\\\\\\\\\": {\\\\\\\\\\\\\"columnHeadersMode\\\\\\\\\\\\\": 3, \\\\\\\\\\\\\"fileEncoding\\\\\\\\\\\\\": 0, \\\\\\\\\\\\\"handleQuotedLineBreaks\\\\\\\\\\\\\": false, \\\\\\\\\\\\\"preview\\\\\\\\\\\\\": false, \\\\\\\\\\\\\"separator\\\\\\\\\\\\\": \\\\\\\\\\\\\",\\\\\\\\\\\\\", \\\\\\\\\\\\\"skipRows\\\\\\\\\\\\\": 0, \\\\\\\\\\\\\"skipRowsMode\\\\\\\\\\\\\": 0}, \\\\\\\\\\\\\"localData\\\\\\\\\\\\\": {}, \\\\\\\\\\\\\"isEnabled\\\\\\\\\\\\\": true, \\\\\\\\\\\\\"name\\\\\\\\\\\\\": null, \\\\\\\\\\\\\"annotation\\\\\\\\\\\\\": null}, {\\\\\\\\\\\\\"id\\\\\\\\\\\\\": \\\\\\\\\\\\\"8000f4e5-4c5a-4ded-9d10-67373a6fef72\\\\\\\\\\\\\", \\\\\\\\\\\\\"type\\\\\\\\\\\\\": \\\\\\\\\\\\\"Microsoft.DPrep.DropColumnsBlock\\\\\\\\\\\\\", \\\\\\\\\\\\\"arguments\\\\\\\\\\\\\": {\\\\\\\\\\\\\"columns\\\\\\\\\\\\\": {\\\\\\\\\\\\\"type\\\\\\\\\\\\\": 0, \\\\\\\\\\\\\"details\\\\\\\\\\\\\": {\\\\\\\\\\\\\"selectedColumns\\\\\\\\\\\\\": [\\\\\\\\\\\\\"Path\\\\\\\\\\\\\"]}}}, \\\\\\\\\\\\\"localData\\\\\\\\\\\\\": {}, \\\\\\\\\\\\\"isEnabled\\\\\\\\\\\\\": true, \\\\\\\\\\\\\"name\\\\\\\\\\\\\": null, \\\\\\\\\\\\\"annotation\\\\\\\\\\\\\": null}, {\\\\\\\\\\\\\"id\\\\\\\\\\\\\": \\\\\\\\\\\\\"104111ac-a171-41ef-bf6a-40891537e217\\\\\\\\\\\\\", \\\\\\\\\\\\\"type\\\\\\\\\\\\\": \\\\\\\\\\\\\"Microsoft.DPrep.SetColumnTypesBlock\\\\\\\\\\\\\", \\\\\\\\\\\\\"arguments\\\\\\\\\\\\\": {\\\\\\\\\\\\\"columnConversion\\\\\\\\\\\\\": [{\\\\\\\\\\\\\"column\\\\\\\\\\\\\": {\\\\\\\\\\\\\"type\\\\\\\\\\\\\": 2, \\\\\\\\\\\\\"details\\\\\\\\\\\\\": {\\\\\\\\\\\\\"selectedColumn\\\\\\\\\\\\\": \\\\\\\\\\\\\"Pregnancies\\\\\\\\\\\\\"}}, \\\\\\\\\\\\\"typeProperty\\\\\\\\\\\\\": 2}, {\\\\\\\\\\\\\"column\\\\\\\\\\\\\": {\\\\\\\\\\\\\"type\\\\\\\\\\\\\": 2, \\\\\\\\\\\\\"details\\\\\\\\\\\\\": {\\\\\\\\\\\\\"selectedColumn\\\\\\\\\\\\\": \\\\\\\\\\\\\"Glucose\\\\\\\\\\\\\"}}, \\\\\\\\\\\\\"typeProperty\\\\\\\\\\\\\": 2}, {\\\\\\\\\\\\\"column\\\\\\\\\\\\\": {\\\\\\\\\\\\\"type\\\\\\\\\\\\\": 2, \\\\\\\\\\\\\"details\\\\\\\\\\\\\": {\\\\\\\\\\\\\"selectedColumn\\\\\\\\\\\\\": \\\\\\\\\\\\\"BloodPressure\\\\\\\\\\\\\"}}, \\\\\\\\\\\\\"typeProperty\\\\\\\\\\\\\": 2}, {\\\\\\\\\\\\\"column\\\\\\\\\\\\\": {\\\\\\\\\\\\\"type\\\\\\\\\\\\\": 2, \\\\\\\\\\\\\"details\\\\\\\\\\\\\": {\\\\\\\\\\\\\"selectedColumn\\\\\\\\\\\\\": \\\\\\\\\\\\\"SkinThickness\\\\\\\\\\\\\"}}, \\\\\\\\\\\\\"typeProperty\\\\\\\\\\\\\": 2}, {\\\\\\\\\\\\\"column\\\\\\\\\\\\\": {\\\\\\\\\\\\\"type\\\\\\\\\\\\\": 2, \\\\\\\\\\\\\"details\\\\\\\\\\\\\": {\\\\\\\\\\\\\"selectedColumn\\\\\\\\\\\\\": \\\\\\\\\\\\\"Insulin\\\\\\\\\\\\\"}}, \\\\\\\\\\\\\"typeProperty\\\\\\\\\\\\\": 2}, {\\\\\\\\\\\\\"column\\\\\\\\\\\\\": {\\\\\\\\\\\\\"type\\\\\\\\\\\\\": 2, \\\\\\\\\\\\\"details\\\\\\\\\\\\\": {\\\\\\\\\\\\\"selectedColumn\\\\\\\\\\\\\": \\\\\\\\\\\\\"BMI\\\\\\\\\\\\\"}}, \\\\\\\\\\\\\"typeProperty\\\\\\\\\\\\\": 3}, {\\\\\\\\\\\\\"column\\\\\\\\\\\\\": {\\\\\\\\\\\\\"type\\\\\\\\\\\\\": 2, \\\\\\\\\\\\\"details\\\\\\\\\\\\\": {\\\\\\\\\\\\\"selectedColumn\\\\\\\\\\\\\": \\\\\\\\\\\\\"DiabetesPedigreeFunction\\\\\\\\\\\\\"}}, \\\\\\\\\\\\\"typeProperty\\\\\\\\\\\\\": 3}, {\\\\\\\\\\\\\"column\\\\\\\\\\\\\": {\\\\\\\\\\\\\"type\\\\\\\\\\\\\": 2, \\\\\\\\\\\\\"details\\\\\\\\\\\\\": {\\\\\\\\\\\\\"selectedColumn\\\\\\\\\\\\\": \\\\\\\\\\\\\"Age\\\\\\\\\\\\\"}}, \\\\\\\\\\\\\"typeProperty\\\\\\\\\\\\\": 2}, {\\\\\\\\\\\\\"column\\\\\\\\\\\\\": {\\\\\\\\\\\\\"type\\\\\\\\\\\\\": 2, \\\\\\\\\\\\\"details\\\\\\\\\\\\\": {\\\\\\\\\\\\\"selectedColumn\\\\\\\\\\\\\": \\\\\\\\\\\\\"Outcome\\\\\\\\\\\\\"}}, \\\\\\\\\\\\\"typeProperty\\\\\\\\\\\\\": 2}]}, \\\\\\\\\\\\\"localData\\\\\\\\\\\\\": {}, \\\\\\\\\\\\\"isEnabled\\\\\\\\\\\\\": true, \\\\\\\\\\\\\"name\\\\\\\\\\\\\": null, \\\\\\\\\\\\\"annotation\\\\\\\\\\\\\": null}], \\\\\\\\\\\\\"inspectors\\\\\\\\\\\\\": [], \\\\\\\\\\\\\"meta\\\\\\\\\\\\\": {\\\\\\\\\\\\\"steps_added\\\\\\\\\\\\\": \\\\\\\\\\\\\"4\\\\\\\\\\\\\"}}\\\\\", \\\\\"activities\\\\\": 0}',\n",
       "  'EnableSubsampling': 'False',\n",
       "  'runTemplate': 'AutoML',\n",
       "  'azureml.runsource': 'automl',\n",
       "  'display_task_type': 'classification',\n",
       "  'dependencies_versions': '{\"azureml-widgets\": \"1.19.0\", \"azureml-train\": \"1.19.0\", \"azureml-train-restclients-hyperdrive\": \"1.19.0\", \"azureml-train-core\": \"1.19.0\", \"azureml-train-automl\": \"1.19.0\", \"azureml-train-automl-runtime\": \"1.19.0\", \"azureml-train-automl-client\": \"1.19.0\", \"azureml-tensorboard\": \"1.19.0\", \"azureml-telemetry\": \"1.19.0\", \"azureml-sdk\": \"1.19.0\", \"azureml-samples\": \"0+unknown\", \"azureml-pipeline\": \"1.19.0\", \"azureml-pipeline-steps\": \"1.19.0\", \"azureml-pipeline-core\": \"1.19.0\", \"azureml-opendatasets\": \"1.19.0\", \"azureml-model-management-sdk\": \"1.0.1b6.post1\", \"azureml-mlflow\": \"1.19.0\", \"azureml-interpret\": \"1.19.0\", \"azureml-explain-model\": \"1.19.0\", \"azureml-defaults\": \"1.19.0\", \"azureml-dataset-runtime\": \"1.19.0\", \"azureml-dataprep\": \"2.6.1\", \"azureml-dataprep-rslex\": \"1.4.0\", \"azureml-dataprep-native\": \"26.0.0\", \"azureml-datadrift\": \"1.19.0\", \"azureml-core\": \"1.19.0\", \"azureml-contrib-services\": \"1.19.0\", \"azureml-contrib-server\": \"1.19.0\", \"azureml-contrib-reinforcementlearning\": \"1.19.0\", \"azureml-contrib-pipeline-steps\": \"1.19.0\", \"azureml-contrib-notebook\": \"1.19.0\", \"azureml-contrib-interpret\": \"1.19.0\", \"azureml-contrib-gbdt\": \"1.19.0\", \"azureml-contrib-fairness\": \"1.19.0\", \"azureml-contrib-dataset\": \"1.19.0\", \"azureml-cli-common\": \"1.19.0\", \"azureml-automl-runtime\": \"1.19.0\", \"azureml-automl-core\": \"1.19.0\", \"azureml-accel-models\": \"1.19.0\"}',\n",
       "  '_aml_system_scenario_identification': 'Remote.Parent',\n",
       "  'ClientType': 'SDK',\n",
       "  'environment_cpu_name': 'AzureML-AutoML',\n",
       "  'environment_cpu_label': 'prod',\n",
       "  'environment_gpu_name': 'AzureML-AutoML-GPU',\n",
       "  'environment_gpu_label': 'prod',\n",
       "  'root_attribution': 'automl',\n",
       "  'attribution': 'AutoML',\n",
       "  'Orchestrator': 'AutoML',\n",
       "  'CancelUri': 'https://southcentralus.experiments.azureml.net/jasmine/v1.0/subscriptions/cdbe0b43-92a0-4715-838a-f2648cc7ad21/resourceGroups/aml-quickstarts-133645/providers/Microsoft.MachineLearningServices/workspaces/quick-starts-ws-133645/experimentids/6f6d5bc6-3240-4fc9-99f1-316a27910834/cancel/AutoML_e8661898-9d01-4bb5-8e1e-dfd5953a4cbc',\n",
       "  'ClientSdkVersion': '1.19.0',\n",
       "  'snapshotId': '00000000-0000-0000-0000-000000000000',\n",
       "  'SetupRunId': 'AutoML_e8661898-9d01-4bb5-8e1e-dfd5953a4cbc_setup',\n",
       "  'SetupRunContainerId': 'dcid.AutoML_e8661898-9d01-4bb5-8e1e-dfd5953a4cbc_setup',\n",
       "  'FeaturizationRunJsonPath': 'featurizer_container.json',\n",
       "  'FeaturizationRunId': 'AutoML_e8661898-9d01-4bb5-8e1e-dfd5953a4cbc_featurize',\n",
       "  'ProblemInfoJsonString': '{\"dataset_num_categorical\": 0, \"is_sparse\": false, \"subsampling\": false, \"dataset_classes\": 2, \"dataset_features\": 8, \"dataset_samples\": 768, \"single_frequency_class_detected\": false}',\n",
       "  'ModelExplainRunId': 'AutoML_e8661898-9d01-4bb5-8e1e-dfd5953a4cbc_ModelExplain'},\n",
       " 'inputDatasets': [],\n",
       " 'outputDatasets': [],\n",
       " 'logFiles': {}}"
      ]
     },
     "execution_count": 12,
     "metadata": {},
     "output_type": "execute_result"
    }
   ],
   "source": [
    "remote_run.wait_for_completion(show_output=True)"
   ]
  },
  {
   "cell_type": "code",
   "execution_count": 13,
   "metadata": {},
   "outputs": [],
   "source": [
    "bestrun,model=remote_run.get_output()"
   ]
  },
  {
   "cell_type": "code",
   "execution_count": 14,
   "metadata": {
    "scrolled": true
   },
   "outputs": [
    {
     "data": {
      "text/html": [
       "<table style=\"width:100%\"><tr><th>Experiment</th><th>Id</th><th>Type</th><th>Status</th><th>Details Page</th><th>Docs Page</th></tr><tr><td>automl-Diabetes</td><td>AutoML_e8661898-9d01-4bb5-8e1e-dfd5953a4cbc_22</td><td>azureml.scriptrun</td><td>Completed</td><td><a href=\"https://ml.azure.com/experiments/automl-Diabetes/runs/AutoML_e8661898-9d01-4bb5-8e1e-dfd5953a4cbc_22?wsid=/subscriptions/cdbe0b43-92a0-4715-838a-f2648cc7ad21/resourcegroups/aml-quickstarts-133645/workspaces/quick-starts-ws-133645\" target=\"_blank\" rel=\"noopener\">Link to Azure Machine Learning studio</a></td><td><a href=\"https://docs.microsoft.com/en-us/python/api/azureml-core/azureml.core.run.Run?view=azure-ml-py\" target=\"_blank\" rel=\"noopener\">Link to Documentation</a></td></tr></table>"
      ],
      "text/plain": [
       "Run(Experiment: automl-Diabetes,\n",
       "Id: AutoML_e8661898-9d01-4bb5-8e1e-dfd5953a4cbc_22,\n",
       "Type: azureml.scriptrun,\n",
       "Status: Completed)"
      ]
     },
     "execution_count": 14,
     "metadata": {},
     "output_type": "execute_result"
    }
   ],
   "source": [
    "bestrun"
   ]
  },
  {
   "cell_type": "code",
   "execution_count": 15,
   "metadata": {
    "scrolled": true
   },
   "outputs": [
    {
     "data": {
      "text/plain": [
       "Pipeline(memory=None,\n",
       "         steps=[('datatransformer',\n",
       "                 DataTransformer(enable_dnn=None, enable_feature_sweeping=None,\n",
       "                                 feature_sweeping_config=None,\n",
       "                                 feature_sweeping_timeout=None,\n",
       "                                 featurization_config=None, force_text_dnn=None,\n",
       "                                 is_cross_validation=None,\n",
       "                                 is_onnx_compatible=None, logger=None,\n",
       "                                 observer=None, task=None, working_dir=None)),\n",
       "                ('prefittedsoftvotingclassifier',...\n",
       "                                                                             KNeighborsClassifier(algorithm='auto',\n",
       "                                                                                                  leaf_size=30,\n",
       "                                                                                                  metric='l1',\n",
       "                                                                                                  metric_params=None,\n",
       "                                                                                                  n_jobs=1,\n",
       "                                                                                                  n_neighbors=8,\n",
       "                                                                                                  p=2,\n",
       "                                                                                                  weights='distance'))],\n",
       "                                                                     verbose=False))],\n",
       "                                               flatten_transform=None,\n",
       "                                               weights=[0.2222222222222222,\n",
       "                                                        0.1111111111111111,\n",
       "                                                        0.1111111111111111,\n",
       "                                                        0.1111111111111111,\n",
       "                                                        0.1111111111111111,\n",
       "                                                        0.1111111111111111,\n",
       "                                                        0.1111111111111111,\n",
       "                                                        0.1111111111111111]))],\n",
       "         verbose=False)"
      ]
     },
     "execution_count": 15,
     "metadata": {},
     "output_type": "execute_result"
    }
   ],
   "source": [
    "model"
   ]
  },
  {
   "cell_type": "code",
   "execution_count": 13,
   "metadata": {},
   "outputs": [],
   "source": [
    "best_run_metrics = bestrun.get_metrics()"
   ]
  },
  {
   "cell_type": "code",
   "execution_count": 14,
   "metadata": {},
   "outputs": [
    {
     "data": {
      "text/plain": [
       "Pipeline(memory=None,\n",
       "         steps=[('datatransformer',\n",
       "                 DataTransformer(enable_dnn=None, enable_feature_sweeping=None,\n",
       "                                 feature_sweeping_config=None,\n",
       "                                 feature_sweeping_timeout=None,\n",
       "                                 featurization_config=None, force_text_dnn=None,\n",
       "                                 is_cross_validation=None,\n",
       "                                 is_onnx_compatible=None, logger=None,\n",
       "                                 observer=None, task=None, working_dir=None)),\n",
       "                ('prefittedsoftvotingclassifier',...\n",
       "                                                                                               reg_alpha=0,\n",
       "                                                                                               reg_lambda=1.5625,\n",
       "                                                                                               scale_pos_weight=1,\n",
       "                                                                                               seed=None,\n",
       "                                                                                               silent=None,\n",
       "                                                                                               subsample=0.5,\n",
       "                                                                                               tree_method='auto',\n",
       "                                                                                               verbose=-10,\n",
       "                                                                                               verbosity=0))],\n",
       "                                                                     verbose=False))],\n",
       "                                               flatten_transform=None,\n",
       "                                               weights=[0.2727272727272727,\n",
       "                                                        0.09090909090909091,\n",
       "                                                        0.09090909090909091,\n",
       "                                                        0.09090909090909091,\n",
       "                                                        0.09090909090909091,\n",
       "                                                        0.09090909090909091,\n",
       "                                                        0.18181818181818182,\n",
       "                                                        0.09090909090909091]))],\n",
       "         verbose=False)"
      ]
     },
     "execution_count": 14,
     "metadata": {},
     "output_type": "execute_result"
    }
   ],
   "source": [
    "model"
   ]
  },
  {
   "cell_type": "code",
   "execution_count": 16,
   "metadata": {},
   "outputs": [
    {
     "data": {
      "text/plain": [
       "'AutoMLe8661898922'"
      ]
     },
     "execution_count": 16,
     "metadata": {},
     "output_type": "execute_result"
    }
   ],
   "source": [
    "import joblib\n",
    "os.makedirs('./outputs', exist_ok=True)\n",
    "\n",
    "joblib.dump(model, filename='outputs/automl_model.joblib')\n",
    "\n",
    "model_name = bestrun.properties['model_name']\n",
    "model_name"
   ]
  },
  {
   "cell_type": "code",
   "execution_count": 22,
   "metadata": {
    "scrolled": true
   },
   "outputs": [],
   "source": [
    "env = bestrun.get_environment().save_to_directory(path='environments')\n",
    "\n",
    "script_file = 'score.py'\n",
    "\n",
    "bestrun.download_file('outputs/scoring_file_v_1_0_0.py', script_file)"
   ]
  },
  {
   "cell_type": "markdown",
   "metadata": {},
   "source": [
    "## Registering the Model"
   ]
  },
  {
   "cell_type": "code",
   "execution_count": 19,
   "metadata": {},
   "outputs": [
    {
     "data": {
      "text/plain": [
       "'AutoMLe8661898922:1'"
      ]
     },
     "execution_count": 19,
     "metadata": {},
     "output_type": "execute_result"
    }
   ],
   "source": [
    "model = remote_run.register_model(model_name = model_name,\n",
    "                                  description = 'AutoML model')\n",
    "model.id"
   ]
  },
  {
   "cell_type": "markdown",
   "metadata": {},
   "source": [
    "##  Setting Inferecne Config and ACi CONFIG"
   ]
  },
  {
   "cell_type": "code",
   "execution_count": 23,
   "metadata": {},
   "outputs": [
    {
     "name": "stdout",
     "output_type": "stream",
     "text": [
      "automl-diabetes\n"
     ]
    }
   ],
   "source": [
    "inference_config = InferenceConfig(entry_script = script_file, environment = env)\n",
    "\n",
    "aci_config = AciWebservice.deploy_configuration(cpu_cores = 1, memory_gb = 1)\n",
    "\n",
    "aci_service_name = 'automl-diabetes'\n",
    "print(aci_service_name)"
   ]
  },
  {
   "cell_type": "code",
   "execution_count": 24,
   "metadata": {
    "scrolled": false
   },
   "outputs": [
    {
     "name": "stdout",
     "output_type": "stream",
     "text": [
      "Tips: You can try get_logs(): https://aka.ms/debugimage#dockerlog or local deployment: https://aka.ms/debugimage#debug-locally to debug if deployment takes longer than 10 minutes.\n",
      "Running...............................................\n",
      "Succeeded\n",
      "ACI service creation operation finished, operation \"Succeeded\"\n",
      "State: Healthy\n",
      "Scoring URI: http://965504f0-4479-4756-aafd-7dbc2c2d9c72.southcentralus.azurecontainer.io/score\n"
     ]
    }
   ],
   "source": [
    "service = Model.deploy(ws, aci_service_name, [model], inference_config, aci_config)\n",
    "service.wait_for_deployment(True)\n",
    "print(\"State: \" + service.state)\n",
    "print(\"Scoring URI: \" + service.scoring_uri)"
   ]
  },
  {
   "cell_type": "markdown",
   "metadata": {},
   "source": [
    "## testing the Endpoint"
   ]
  },
  {
   "cell_type": "code",
   "execution_count": 47,
   "metadata": {},
   "outputs": [
    {
     "name": "stdout",
     "output_type": "stream",
     "text": [
      "{\"result\": [1, 1]}\n"
     ]
    }
   ],
   "source": [
    "%run endpoint.py"
   ]
  },
  {
   "cell_type": "code",
   "execution_count": 38,
   "metadata": {},
   "outputs": [],
   "source": [
    "df_test=df[700:710]"
   ]
  },
  {
   "cell_type": "code",
   "execution_count": 39,
   "metadata": {},
   "outputs": [
    {
     "data": {
      "text/html": [
       "<div>\n",
       "<style scoped>\n",
       "    .dataframe tbody tr th:only-of-type {\n",
       "        vertical-align: middle;\n",
       "    }\n",
       "\n",
       "    .dataframe tbody tr th {\n",
       "        vertical-align: top;\n",
       "    }\n",
       "\n",
       "    .dataframe thead th {\n",
       "        text-align: right;\n",
       "    }\n",
       "</style>\n",
       "<table border=\"1\" class=\"dataframe\">\n",
       "  <thead>\n",
       "    <tr style=\"text-align: right;\">\n",
       "      <th></th>\n",
       "      <th>Pregnancies</th>\n",
       "      <th>Glucose</th>\n",
       "      <th>BloodPressure</th>\n",
       "      <th>SkinThickness</th>\n",
       "      <th>Insulin</th>\n",
       "      <th>BMI</th>\n",
       "      <th>DiabetesPedigreeFunction</th>\n",
       "      <th>Age</th>\n",
       "      <th>Outcome</th>\n",
       "    </tr>\n",
       "  </thead>\n",
       "  <tbody>\n",
       "    <tr>\n",
       "      <th>700</th>\n",
       "      <td>2</td>\n",
       "      <td>122</td>\n",
       "      <td>76</td>\n",
       "      <td>27</td>\n",
       "      <td>200</td>\n",
       "      <td>35.90</td>\n",
       "      <td>0.48</td>\n",
       "      <td>26</td>\n",
       "      <td>0</td>\n",
       "    </tr>\n",
       "    <tr>\n",
       "      <th>701</th>\n",
       "      <td>6</td>\n",
       "      <td>125</td>\n",
       "      <td>78</td>\n",
       "      <td>31</td>\n",
       "      <td>0</td>\n",
       "      <td>27.60</td>\n",
       "      <td>0.56</td>\n",
       "      <td>49</td>\n",
       "      <td>1</td>\n",
       "    </tr>\n",
       "    <tr>\n",
       "      <th>702</th>\n",
       "      <td>1</td>\n",
       "      <td>168</td>\n",
       "      <td>88</td>\n",
       "      <td>29</td>\n",
       "      <td>0</td>\n",
       "      <td>35.00</td>\n",
       "      <td>0.91</td>\n",
       "      <td>52</td>\n",
       "      <td>1</td>\n",
       "    </tr>\n",
       "    <tr>\n",
       "      <th>703</th>\n",
       "      <td>2</td>\n",
       "      <td>129</td>\n",
       "      <td>0</td>\n",
       "      <td>0</td>\n",
       "      <td>0</td>\n",
       "      <td>38.50</td>\n",
       "      <td>0.30</td>\n",
       "      <td>41</td>\n",
       "      <td>0</td>\n",
       "    </tr>\n",
       "    <tr>\n",
       "      <th>704</th>\n",
       "      <td>4</td>\n",
       "      <td>110</td>\n",
       "      <td>76</td>\n",
       "      <td>20</td>\n",
       "      <td>100</td>\n",
       "      <td>28.40</td>\n",
       "      <td>0.12</td>\n",
       "      <td>27</td>\n",
       "      <td>0</td>\n",
       "    </tr>\n",
       "    <tr>\n",
       "      <th>705</th>\n",
       "      <td>6</td>\n",
       "      <td>80</td>\n",
       "      <td>80</td>\n",
       "      <td>36</td>\n",
       "      <td>0</td>\n",
       "      <td>39.80</td>\n",
       "      <td>0.18</td>\n",
       "      <td>28</td>\n",
       "      <td>0</td>\n",
       "    </tr>\n",
       "    <tr>\n",
       "      <th>706</th>\n",
       "      <td>10</td>\n",
       "      <td>115</td>\n",
       "      <td>0</td>\n",
       "      <td>0</td>\n",
       "      <td>0</td>\n",
       "      <td>0.00</td>\n",
       "      <td>0.26</td>\n",
       "      <td>30</td>\n",
       "      <td>1</td>\n",
       "    </tr>\n",
       "    <tr>\n",
       "      <th>707</th>\n",
       "      <td>2</td>\n",
       "      <td>127</td>\n",
       "      <td>46</td>\n",
       "      <td>21</td>\n",
       "      <td>335</td>\n",
       "      <td>34.40</td>\n",
       "      <td>0.18</td>\n",
       "      <td>22</td>\n",
       "      <td>0</td>\n",
       "    </tr>\n",
       "    <tr>\n",
       "      <th>708</th>\n",
       "      <td>9</td>\n",
       "      <td>164</td>\n",
       "      <td>78</td>\n",
       "      <td>0</td>\n",
       "      <td>0</td>\n",
       "      <td>32.80</td>\n",
       "      <td>0.15</td>\n",
       "      <td>45</td>\n",
       "      <td>1</td>\n",
       "    </tr>\n",
       "    <tr>\n",
       "      <th>709</th>\n",
       "      <td>2</td>\n",
       "      <td>93</td>\n",
       "      <td>64</td>\n",
       "      <td>32</td>\n",
       "      <td>160</td>\n",
       "      <td>38.00</td>\n",
       "      <td>0.67</td>\n",
       "      <td>23</td>\n",
       "      <td>1</td>\n",
       "    </tr>\n",
       "  </tbody>\n",
       "</table>\n",
       "</div>"
      ],
      "text/plain": [
       "     Pregnancies  Glucose  BloodPressure  SkinThickness  Insulin   BMI  \\\n",
       "700            2      122             76             27      200 35.90   \n",
       "701            6      125             78             31        0 27.60   \n",
       "702            1      168             88             29        0 35.00   \n",
       "703            2      129              0              0        0 38.50   \n",
       "704            4      110             76             20      100 28.40   \n",
       "705            6       80             80             36        0 39.80   \n",
       "706           10      115              0              0        0  0.00   \n",
       "707            2      127             46             21      335 34.40   \n",
       "708            9      164             78              0        0 32.80   \n",
       "709            2       93             64             32      160 38.00   \n",
       "\n",
       "     DiabetesPedigreeFunction  Age  Outcome  \n",
       "700                      0.48   26        0  \n",
       "701                      0.56   49        1  \n",
       "702                      0.91   52        1  \n",
       "703                      0.30   41        0  \n",
       "704                      0.12   27        0  \n",
       "705                      0.18   28        0  \n",
       "706                      0.26   30        1  \n",
       "707                      0.18   22        0  \n",
       "708                      0.15   45        1  \n",
       "709                      0.67   23        1  "
      ]
     },
     "execution_count": 39,
     "metadata": {},
     "output_type": "execute_result"
    }
   ],
   "source": [
    "df_test"
   ]
  },
  {
   "cell_type": "code",
   "execution_count": 40,
   "metadata": {},
   "outputs": [],
   "source": [
    "y_true=df_test.pop('Outcome')"
   ]
  },
  {
   "cell_type": "code",
   "execution_count": 41,
   "metadata": {},
   "outputs": [],
   "source": [
    "sample_json = json.dumps({'data':df_test.to_dict(orient='records')})"
   ]
  },
  {
   "cell_type": "code",
   "execution_count": 42,
   "metadata": {},
   "outputs": [
    {
     "data": {
      "text/plain": [
       "'{\"data\": [{\"Pregnancies\": 2, \"Glucose\": 122, \"BloodPressure\": 76, \"SkinThickness\": 27, \"Insulin\": 200, \"BMI\": 35.9, \"DiabetesPedigreeFunction\": 0.483, \"Age\": 26}, {\"Pregnancies\": 6, \"Glucose\": 125, \"BloodPressure\": 78, \"SkinThickness\": 31, \"Insulin\": 0, \"BMI\": 27.6, \"DiabetesPedigreeFunction\": 0.565, \"Age\": 49}, {\"Pregnancies\": 1, \"Glucose\": 168, \"BloodPressure\": 88, \"SkinThickness\": 29, \"Insulin\": 0, \"BMI\": 35.0, \"DiabetesPedigreeFunction\": 0.905, \"Age\": 52}, {\"Pregnancies\": 2, \"Glucose\": 129, \"BloodPressure\": 0, \"SkinThickness\": 0, \"Insulin\": 0, \"BMI\": 38.5, \"DiabetesPedigreeFunction\": 0.304, \"Age\": 41}, {\"Pregnancies\": 4, \"Glucose\": 110, \"BloodPressure\": 76, \"SkinThickness\": 20, \"Insulin\": 100, \"BMI\": 28.4, \"DiabetesPedigreeFunction\": 0.118, \"Age\": 27}, {\"Pregnancies\": 6, \"Glucose\": 80, \"BloodPressure\": 80, \"SkinThickness\": 36, \"Insulin\": 0, \"BMI\": 39.8, \"DiabetesPedigreeFunction\": 0.177, \"Age\": 28}, {\"Pregnancies\": 10, \"Glucose\": 115, \"BloodPressure\": 0, \"SkinThickness\": 0, \"Insulin\": 0, \"BMI\": 0.0, \"DiabetesPedigreeFunction\": 0.261, \"Age\": 30}, {\"Pregnancies\": 2, \"Glucose\": 127, \"BloodPressure\": 46, \"SkinThickness\": 21, \"Insulin\": 335, \"BMI\": 34.4, \"DiabetesPedigreeFunction\": 0.176, \"Age\": 22}, {\"Pregnancies\": 9, \"Glucose\": 164, \"BloodPressure\": 78, \"SkinThickness\": 0, \"Insulin\": 0, \"BMI\": 32.8, \"DiabetesPedigreeFunction\": 0.148, \"Age\": 45}, {\"Pregnancies\": 2, \"Glucose\": 93, \"BloodPressure\": 64, \"SkinThickness\": 32, \"Insulin\": 160, \"BMI\": 38.0, \"DiabetesPedigreeFunction\": 0.674, \"Age\": 23}]}'"
      ]
     },
     "execution_count": 42,
     "metadata": {},
     "output_type": "execute_result"
    }
   ],
   "source": [
    "sample_json"
   ]
  },
  {
   "cell_type": "code",
   "execution_count": 43,
   "metadata": {},
   "outputs": [],
   "source": [
    "\n",
    "output = service.run(sample_json)"
   ]
  },
  {
   "cell_type": "code",
   "execution_count": 44,
   "metadata": {},
   "outputs": [
    {
     "data": {
      "text/plain": [
       "'{\"result\": [0, 1, 1, 0, 0, 0, 0, 0, 1, 0]}'"
      ]
     },
     "execution_count": 44,
     "metadata": {},
     "output_type": "execute_result"
    }
   ],
   "source": [
    "output"
   ]
  },
  {
   "cell_type": "code",
   "execution_count": 45,
   "metadata": {
    "scrolled": false
   },
   "outputs": [
    {
     "name": "stdout",
     "output_type": "stream",
     "text": [
      "Predicted Values are : {\"result\": [0, 1, 1, 0, 0, 0, 0, 0, 1, 0]}\n",
      "True Values are: [0 1 1 0 0 0 1 0 1 1]\n"
     ]
    }
   ],
   "source": [
    "print(\"Predicted Values are :\", output)\n",
    "print(\"True Values are:\",y_true.values)"
   ]
  },
  {
   "cell_type": "markdown",
   "metadata": {},
   "source": [
    "## Application Insights"
   ]
  },
  {
   "cell_type": "code",
   "execution_count": 46,
   "metadata": {},
   "outputs": [
    {
     "data": {
      "text/plain": [
       "'2021-01-06T13:24:16,298985709+00:00 - rsyslog/run \\n2021-01-06T13:24:16,299124910+00:00 - iot-server/run \\n2021-01-06T13:24:16,299125610+00:00 - gunicorn/run \\n2021-01-06T13:24:16,343325987+00:00 - nginx/run \\n/usr/sbin/nginx: /azureml-envs/azureml_8eff28b157f42edcd2424a5aae6c8074/lib/libcrypto.so.1.0.0: no version information available (required by /usr/sbin/nginx)\\n/usr/sbin/nginx: /azureml-envs/azureml_8eff28b157f42edcd2424a5aae6c8074/lib/libcrypto.so.1.0.0: no version information available (required by /usr/sbin/nginx)\\n/usr/sbin/nginx: /azureml-envs/azureml_8eff28b157f42edcd2424a5aae6c8074/lib/libssl.so.1.0.0: no version information available (required by /usr/sbin/nginx)\\n/usr/sbin/nginx: /azureml-envs/azureml_8eff28b157f42edcd2424a5aae6c8074/lib/libssl.so.1.0.0: no version information available (required by /usr/sbin/nginx)\\n/usr/sbin/nginx: /azureml-envs/azureml_8eff28b157f42edcd2424a5aae6c8074/lib/libssl.so.1.0.0: no version information available (required by /usr/sbin/nginx)\\nEdgeHubConnectionString and IOTEDGE_IOTHUBHOSTNAME are not set. Exiting...\\nrsyslogd: /azureml-envs/azureml_8eff28b157f42edcd2424a5aae6c8074/lib/libuuid.so.1: no version information available (required by rsyslogd)\\n2021-01-06T13:24:16,521746607+00:00 - iot-server/finish 1 0\\n2021-01-06T13:24:16,523216316+00:00 - Exit code 1 is normal. Not restarting iot-server.\\nStarting gunicorn 19.9.0\\nListening at: http://127.0.0.1:31311 (12)\\nUsing worker: sync\\nworker timeout is set to 300\\nBooting worker with pid: 42\\nSPARK_HOME not set. Skipping PySpark Initialization.\\nGenerating new fontManager, this may take some time...\\nInitializing logger\\n2021-01-06 13:24:19,033 | root | INFO | Starting up app insights client\\nStarting up app insights client\\n2021-01-06 13:24:19,033 | root | INFO | Starting up request id generator\\nStarting up request id generator\\n2021-01-06 13:24:19,034 | root | INFO | Starting up app insight hooks\\nStarting up app insight hooks\\n2021-01-06 13:24:19,034 | root | INFO | Invoking user\\'s init function\\nInvoking user\\'s init function\\n2021-01-06 13:24:21,398 | root | INFO | Users\\'s init has completed successfully\\nUsers\\'s init has completed successfully\\n2021-01-06 13:24:21,403 | root | INFO | Skipping middleware: dbg_model_info as it\\'s not enabled.\\nSkipping middleware: dbg_model_info as it\\'s not enabled.\\n2021-01-06 13:24:21,403 | root | INFO | Skipping middleware: dbg_resource_usage as it\\'s not enabled.\\nSkipping middleware: dbg_resource_usage as it\\'s not enabled.\\n2021-01-06 13:24:21,405 | root | INFO | Scoring timeout is found from os.environ: 60000 ms\\nScoring timeout is found from os.environ: 60000 ms\\n2021-01-06 13:24:22,808 | root | INFO | 200\\n200\\n127.0.0.1 - - [06/Jan/2021:13:24:22 +0000] \"GET /swagger.json HTTP/1.0\" 200 2552 \"-\" \"Go-http-client/1.1\"\\n2021-01-06 13:24:29,789 | root | INFO | 200\\n200\\n127.0.0.1 - - [06/Jan/2021:13:24:29 +0000] \"GET /swagger.json HTTP/1.0\" 200 2552 \"-\" \"Go-http-client/1.1\"\\n2021-01-06 13:34:13,648 | root | INFO | 200\\n200\\n127.0.0.1 - - [06/Jan/2021:13:34:13 +0000] \"GET /swagger.json HTTP/1.0\" 200 2552 \"-\" \"Go-http-client/1.1\"\\n2021-01-06 13:34:14,550 | root | INFO | 200\\n200\\n127.0.0.1 - - [06/Jan/2021:13:34:14 +0000] \"GET /swagger.json HTTP/1.0\" 200 2552 \"-\" \"Go-http-client/1.1\"\\n2021-01-06 13:34:53,514 | root | INFO | Validation Request Content-Type\\nValidation Request Content-Type\\n2021-01-06 13:34:53,515 | root | INFO | \\tHost: localhost:5001\\n\\tHost: localhost:5001\\n2021-01-06 13:34:53,515 | root | INFO | \\tX-Real-Ip: 127.0.0.1\\n\\tX-Real-Ip: 127.0.0.1\\n2021-01-06 13:34:53,515 | root | INFO | \\tX-Forwarded-For: 127.0.0.1\\n\\tX-Forwarded-For: 127.0.0.1\\n2021-01-06 13:34:53,515 | root | INFO | \\tX-Forwarded-Proto: http\\n\\tX-Forwarded-Proto: http\\n2021-01-06 13:34:53,515 | root | INFO | \\tConnection: close\\n\\tConnection: close\\n2021-01-06 13:34:53,515 | root | INFO | \\tContent-Length: 314\\n\\tContent-Length: 314\\n2021-01-06 13:34:53,515 | root | INFO | \\tUser-Agent: python-requests/2.25.0\\n\\tUser-Agent: python-requests/2.25.0\\n2021-01-06 13:34:53,515 | root | INFO | \\tAccept: */*\\n\\tAccept: */*\\n2021-01-06 13:34:53,515 | root | INFO | \\tAccept-Encoding: gzip, deflate\\n\\tAccept-Encoding: gzip, deflate\\n2021-01-06 13:34:53,515 | root | INFO | \\tContent-Type: application/json\\n\\tContent-Type: application/json\\n2021-01-06 13:34:53,515 | root | INFO | \\tX-Ms-Request-Id: 625a5eb7-54ff-427e-b5c2-976227079666\\n\\tX-Ms-Request-Id: 625a5eb7-54ff-427e-b5c2-976227079666\\n2021-01-06 13:34:53,516 | root | INFO | Scoring Timer is set to 60.0 seconds\\nScoring Timer is set to 60.0 seconds\\n2021-01-06 13:34:53,566 | root | INFO | 200\\n200\\n127.0.0.1 - - [06/Jan/2021:13:34:53 +0000] \"POST /score HTTP/1.0\" 200 22 \"-\" \"python-requests/2.25.0\"\\n2021-01-06 13:35:47,175 | root | INFO | Validation Request Content-Type\\nValidation Request Content-Type\\n2021-01-06 13:35:47,176 | root | INFO | \\tHost: localhost:5001\\n\\tHost: localhost:5001\\n2021-01-06 13:35:47,176 | root | INFO | \\tX-Real-Ip: 127.0.0.1\\n\\tX-Real-Ip: 127.0.0.1\\n2021-01-06 13:35:47,176 | root | INFO | \\tX-Forwarded-For: 127.0.0.1\\n\\tX-Forwarded-For: 127.0.0.1\\n2021-01-06 13:35:47,176 | root | INFO | \\tX-Forwarded-Proto: http\\n\\tX-Forwarded-Proto: http\\n2021-01-06 13:35:47,176 | root | INFO | \\tConnection: close\\n\\tConnection: close\\n2021-01-06 13:35:47,177 | root | INFO | \\tContent-Length: 1521\\n\\tContent-Length: 1521\\n2021-01-06 13:35:47,177 | root | INFO | \\tUser-Agent: python-requests/2.25.0\\n\\tUser-Agent: python-requests/2.25.0\\n2021-01-06 13:35:47,177 | root | INFO | \\tAccept: application/json\\n\\tAccept: application/json\\n2021-01-06 13:35:47,177 | root | INFO | \\tAccept-Encoding: gzip, deflate\\n\\tAccept-Encoding: gzip, deflate\\n2021-01-06 13:35:47,177 | root | INFO | \\tContent-Type: application/json\\n\\tContent-Type: application/json\\n2021-01-06 13:35:47,177 | root | INFO | \\tX-Ms-Request-Id: eecd4666-414d-4474-b02f-8c63ee1551d5\\n\\tX-Ms-Request-Id: eecd4666-414d-4474-b02f-8c63ee1551d5\\n2021-01-06 13:35:47,177 | root | INFO | Scoring Timer is set to 60.0 seconds\\nScoring Timer is set to 60.0 seconds\\n2021-01-06 13:35:47,226 | root | INFO | 200\\n200\\n127.0.0.1 - - [06/Jan/2021:13:35:47 +0000] \"POST /score HTTP/1.0\" 200 46 \"-\" \"python-requests/2.25.0\"\\n2021-01-06 13:44:26,456 | root | INFO | 200\\n200\\n127.0.0.1 - - [06/Jan/2021:13:44:26 +0000] \"GET /swagger.json HTTP/1.0\" 200 2552 \"-\" \"Go-http-client/1.1\"\\n2021-01-06 13:44:30,247 | root | INFO | 200\\n200\\n127.0.0.1 - - [06/Jan/2021:13:44:30 +0000] \"GET /swagger.json HTTP/1.0\" 200 2552 \"-\" \"Go-http-client/1.1\"\\n2021-01-06 13:44:58,749 | root | INFO | Validation Request Content-Type\\nValidation Request Content-Type\\n2021-01-06 13:44:58,750 | root | INFO | \\tHost: localhost:5001\\n\\tHost: localhost:5001\\n2021-01-06 13:44:58,750 | root | INFO | \\tX-Real-Ip: 127.0.0.1\\n\\tX-Real-Ip: 127.0.0.1\\n2021-01-06 13:44:58,750 | root | INFO | \\tX-Forwarded-For: 127.0.0.1\\n\\tX-Forwarded-For: 127.0.0.1\\n2021-01-06 13:44:58,750 | root | INFO | \\tX-Forwarded-Proto: http\\n\\tX-Forwarded-Proto: http\\n2021-01-06 13:44:58,750 | root | INFO | \\tConnection: close\\n\\tConnection: close\\n2021-01-06 13:44:58,750 | root | INFO | \\tContent-Length: 314\\n\\tContent-Length: 314\\n2021-01-06 13:44:58,750 | root | INFO | \\tUser-Agent: python-requests/2.25.0\\n\\tUser-Agent: python-requests/2.25.0\\n2021-01-06 13:44:58,751 | root | INFO | \\tAccept: */*\\n\\tAccept: */*\\n2021-01-06 13:44:58,751 | root | INFO | \\tAccept-Encoding: gzip, deflate\\n\\tAccept-Encoding: gzip, deflate\\n2021-01-06 13:44:58,751 | root | INFO | \\tContent-Type: application/json\\n\\tContent-Type: application/json\\n2021-01-06 13:44:58,751 | root | INFO | \\tX-Ms-Request-Id: 6189ab21-0617-4268-8feb-4706cf6ed34b\\n\\tX-Ms-Request-Id: 6189ab21-0617-4268-8feb-4706cf6ed34b\\n2021-01-06 13:44:58,751 | root | INFO | Scoring Timer is set to 60.0 seconds\\nScoring Timer is set to 60.0 seconds\\n2021-01-06 13:44:58,808 | root | INFO | 200\\n200\\n127.0.0.1 - - [06/Jan/2021:13:44:58 +0000] \"POST /score HTTP/1.0\" 200 22 \"-\" \"python-requests/2.25.0\"\\n2021-01-06 13:45:14,939 | root | INFO | Validation Request Content-Type\\nValidation Request Content-Type\\n2021-01-06 13:45:14,940 | root | INFO | \\tHost: localhost:5001\\n\\tHost: localhost:5001\\n2021-01-06 13:45:14,940 | root | INFO | \\tX-Real-Ip: 127.0.0.1\\n\\tX-Real-Ip: 127.0.0.1\\n2021-01-06 13:45:14,940 | root | INFO | \\tX-Forwarded-For: 127.0.0.1\\n\\tX-Forwarded-For: 127.0.0.1\\n2021-01-06 13:45:14,940 | root | INFO | \\tX-Forwarded-Proto: http\\n\\tX-Forwarded-Proto: http\\n2021-01-06 13:45:14,940 | root | INFO | \\tConnection: close\\n\\tConnection: close\\n2021-01-06 13:45:14,940 | root | INFO | \\tContent-Length: 1521\\n\\tContent-Length: 1521\\n2021-01-06 13:45:14,940 | root | INFO | \\tUser-Agent: python-requests/2.25.0\\n\\tUser-Agent: python-requests/2.25.0\\n2021-01-06 13:45:14,941 | root | INFO | \\tAccept: application/json\\n\\tAccept: application/json\\n2021-01-06 13:45:14,941 | root | INFO | \\tAccept-Encoding: gzip, deflate\\n\\tAccept-Encoding: gzip, deflate\\n2021-01-06 13:45:14,941 | root | INFO | \\tContent-Type: application/json\\n\\tContent-Type: application/json\\n2021-01-06 13:45:14,941 | root | INFO | \\tX-Ms-Request-Id: 96411b99-9f96-4c08-8f19-d32ca2322073\\n\\tX-Ms-Request-Id: 96411b99-9f96-4c08-8f19-d32ca2322073\\n2021-01-06 13:45:14,941 | root | INFO | Scoring Timer is set to 60.0 seconds\\nScoring Timer is set to 60.0 seconds\\n2021-01-06 13:45:14,993 | root | INFO | 200\\n200\\n127.0.0.1 - - [06/Jan/2021:13:45:14 +0000] \"POST /score HTTP/1.0\" 200 46 \"-\" \"python-requests/2.25.0\"\\n'"
      ]
     },
     "execution_count": 46,
     "metadata": {},
     "output_type": "execute_result"
    }
   ],
   "source": [
    "service.get_logs()"
   ]
  },
  {
   "cell_type": "code",
   "execution_count": 34,
   "metadata": {},
   "outputs": [],
   "source": [
    "service.delete()"
   ]
  },
  {
   "cell_type": "code",
   "execution_count": null,
   "metadata": {},
   "outputs": [],
   "source": []
  }
 ],
 "metadata": {
  "kernel_info": {
   "name": "python3"
  },
  "kernelspec": {
   "display_name": "Python 3",
   "language": "python",
   "name": "python3"
  },
  "language_info": {
   "codemirror_mode": {
    "name": "ipython",
    "version": 3
   },
   "file_extension": ".py",
   "mimetype": "text/x-python",
   "name": "python",
   "nbconvert_exporter": "python",
   "pygments_lexer": "ipython3",
   "version": "3.6.9"
  },
  "nteract": {
   "version": "nteract-front-end@1.0.0"
  }
 },
 "nbformat": 4,
 "nbformat_minor": 4
}
